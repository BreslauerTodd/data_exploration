{
 "cells": [
  {
   "cell_type": "code",
   "execution_count": 6,
   "metadata": {},
   "outputs": [],
   "source": [
    "import pandas as pd"
   ]
  },
  {
   "cell_type": "markdown",
   "metadata": {},
   "source": [
    "## Rising Edge"
   ]
  },
  {
   "cell_type": "code",
   "execution_count": 22,
   "metadata": {},
   "outputs": [],
   "source": [
    "# the simplest method would just be to compare the differences in point locations to a minimum value\n",
    "# currently assuming that any edge will continuously rise or fall and that it will be greater than \n",
    "#      1/3 of the difference between the min and max values\n",
    "def detect_rising_edge(data, time_col_title, signal_col_title):  # data should lack nan values\n",
    "    sum_diff = 0\n",
    "    start_point = data[time_col_title][0]\n",
    "    rise_List = []\n",
    "    edge_min = edge_min_val(data, signal_col_title)\n",
    "    for i in range(len(data)-1):\n",
    "        point_diff = data[signal_col_title][i+1] - data[signal_col_title][i]\n",
    "        if point_diff > 0:\n",
    "            sum_diff = sum_diff + point_diff\n",
    "            \n",
    "        else:\n",
    "            if sum_diff > edge_min:\n",
    "                rise_List.append(start_point)\n",
    "                \n",
    "            sum_diff = 0\n",
    "            start_point = data[time_col_title][i+1]\n",
    "    return rise_List\n"
   ]
  },
  {
   "cell_type": "markdown",
   "metadata": {},
   "source": [
    "## Falling Edge"
   ]
  },
  {
   "cell_type": "code",
   "execution_count": 28,
   "metadata": {},
   "outputs": [],
   "source": [
    "def detect_falling_edge(data, time_col_title, signal_col_title):\n",
    "    sum_diff = 0\n",
    "    start_point = data[time_col_title][0]\n",
    "    fall_List = []\n",
    "    edge_min = edge_min_val(data, signal_col_title)\n",
    "    for i in range(len(data)-1):\n",
    "        point_diff = data[signal_col_title][i] - data[signal_col_title][i+1]\n",
    "        if point_diff > 0:\n",
    "            sum_diff = sum_diff + point_diff\n",
    "            \n",
    "        else:\n",
    "            if sum_diff > edge_min:\n",
    "                fall_List.append(start_point)\n",
    "                \n",
    "            sum_diff = 0\n",
    "            start_point = data[time_col_title][i+1]\n",
    "    return fall_List\n"
   ]
  },
  {
   "cell_type": "markdown",
   "metadata": {},
   "source": [
    "## Finding the minimum edge value"
   ]
  },
  {
   "cell_type": "code",
   "execution_count": 25,
   "metadata": {},
   "outputs": [],
   "source": [
    "def edge_min_val(data, col_title):\n",
    "    # getting max and min values\n",
    "    max_val = data[col_title].max()\n",
    "    min_val = data[col_title].min()\n",
    "    edge_val = (max_val - min_val)/3 # assuming that should be larger than any spikes in the \"flat\" portions\n",
    "    return edge_val"
   ]
  },
  {
   "cell_type": "markdown",
   "metadata": {},
   "source": [
    "# Single Function"
   ]
  },
  {
   "cell_type": "code",
   "execution_count": 26,
   "metadata": {},
   "outputs": [],
   "source": [
    "def get_edges(data, time_col_title, signal_col_title):\n",
    "    rising_List = detect_rising_edge(data, time_col_title, signal_col_title)\n",
    "    print('The rising edges start at the following times:')\n",
    "    print(rising_List)\n",
    "    falling_List = detect_falling_edge(data, time_col_title, signal_col_title)\n",
    "    print('The falling edges start at the following times:')\n",
    "    print(falling_List)"
   ]
  },
  {
   "cell_type": "markdown",
   "metadata": {},
   "source": [
    "## Examples"
   ]
  },
  {
   "cell_type": "code",
   "execution_count": 29,
   "metadata": {},
   "outputs": [
    {
     "name": "stdout",
     "output_type": "stream",
     "text": [
      "The rising edges start at the following times:\n",
      "[2, 8]\n",
      "The falling edges start at the following times:\n",
      "[5]\n"
     ]
    }
   ],
   "source": [
    "time_data = [1, 2, 3, 4, 5, 6, 7, 8, 9, 10]\n",
    "signal_data = [0, 0, 1, 1, 1, 0, 0, 0, 1, 1]\n",
    "d = {'time': time_data, 'signal': signal_data}\n",
    "test_data = pd.DataFrame(data=d)\n",
    "\n",
    "get_edges(test_data, 'time', 'signal')"
   ]
  },
  {
   "cell_type": "code",
   "execution_count": 30,
   "metadata": {},
   "outputs": [
    {
     "name": "stdout",
     "output_type": "stream",
     "text": [
      "The rising edges start at the following times:\n",
      "[2, 8, 11]\n",
      "The falling edges start at the following times:\n",
      "[5, 10, 12]\n"
     ]
    }
   ],
   "source": [
    "time_data = [1, 2, 3, 4, 5, 6, 7, 8, 9, 10, 11, 12, 13, 14, 15]\n",
    "signal_data = [0, 0, 1, 1, 1, 0, 0, 0, 1, 1, 0, 1, 0, 0, 0]\n",
    "d = {'time': time_data, 'signal': signal_data}\n",
    "test_data = pd.DataFrame(data=d)\n",
    "\n",
    "get_edges(test_data, 'time', 'signal')"
   ]
  },
  {
   "cell_type": "code",
   "execution_count": null,
   "metadata": {},
   "outputs": [],
   "source": []
  }
 ],
 "metadata": {
  "kernelspec": {
   "display_name": "Python 3",
   "language": "python",
   "name": "python3"
  },
  "language_info": {
   "codemirror_mode": {
    "name": "ipython",
    "version": 3
   },
   "file_extension": ".py",
   "mimetype": "text/x-python",
   "name": "python",
   "nbconvert_exporter": "python",
   "pygments_lexer": "ipython3",
   "version": "3.7.6"
  }
 },
 "nbformat": 4,
 "nbformat_minor": 4
}
